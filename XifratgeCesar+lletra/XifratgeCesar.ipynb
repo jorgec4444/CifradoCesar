{
 "cells": [
  {
   "cell_type": "markdown",
   "metadata": {
    "colab_type": "text",
    "id": "RSppe_1rJF1o"
   },
   "source": [
    "<div id=\"capcalera\">\n",
    "<p><a href=\"https://colab.research.google.com/github/algorismica2019/problemes/blob/master/XifratgeCesar.ipynb\"><img style=\"margin:-10px 10px 20px 0\" width=\"150px\" align=\"right\" src=\"https://raw.githubusercontent.com/algorismica2019/problemes/master/assets/colab-badge.png?raw=1\" alt=\"Obrir a Colab\" title=\"Obrir i executar a Google Colaboratory\"></a></p>\n",
    "<p style=\"clear:both\"><img align='left' width=\"300px\" style=\"padding-right:10px;float=left\" src=\"https://raw.githubusercontent.com/algorismica2019/problemes/master/assets/al-khwarizmi.png\">Aquest notebook forma part dels continguts teòrics dels problemes de l'assignatura d'<strong>Algorísmica</strong> del Grau d'Enginyeria Informàtica a la <a href=\"https://mat.ub.edu\">Facultat de Matemàtiques i Informàtica</a> de la <a href=\"https://www.ub.edu\">Universitat de Barcelona</a> impartida per <em>Jordi Vitrià</em> i <em>Mireia Ribera</em></p>\n",
    "\n",
    "<p>Els problemes s'ofereixen sota llicència <a href=\"https://creativecommons.org/licenses/by-nc-nd/3.0/us/legalcode\">CC-BY-NC-ND license</a>, i el codi sota <a href=\"https://opensource.org/licenses/MIT\">Llicència MIT</a>.</p>\n",
    "\n",
    "<p style=\"clear:both;text-align:center\">&lt; <a href=\"ValidarIP.ipynb\">Problema anterior</a> | <a href=\"LListatProblemes.ipynb\">LListat de problemes</a> | <a href=\"OrdenarCerca.ipynb\">Problema següent</a> &gt; </p>\n",
    "\n",
    "</div>"
   ]
  },
  {
   "cell_type": "markdown",
   "metadata": {
    "colab_type": "text",
    "id": "iPsT6hEHJF1t"
   },
   "source": [
    "# <span class=\"tema\">( Text )</span>Xifratge César"
   ]
  },
  {
   "cell_type": "markdown",
   "metadata": {
    "colab_type": "text",
    "id": "yQx7HzxmJF1v"
   },
   "source": [
    "## Introducció\n",
    "El xifratge del Cèsar és un xifratge simple de substitució de  lletres que consisteix en canviar cada lletra d’un missatge per la lletra que es troba un cert nombre $n$ de posicions més enllà a l’alfabet. Aquesta variable $n$ és la clau de xifratge. Per exemple, si  $n=3$, el substitut de la ``a`` és la ``d``. \n",
    "\n",
    "El missatge original es pot recuperar fent servir el codi al revés (a l’exemple, faríem servir  $n=-3$ per a desxifrar).\n",
    "\n",
    "Pots suposar que el text està escrit en anglès, sense accents ni ç ... només cal xifrar les lletres, cap altre caràcter.\n",
    "\n",
    "\n",
    "## Conceptualització problema\n",
    "\n",
    "1. Com sabem si un caràcter és una lletra a Python?\n",
    "1. Com es representen els caràcters a l'ordinador? es representa igual z que Z?\n",
    "1. Què passarà quan volem convertir z? se t'acudeix alguna operació matemàtica que et pugui resultar útil?\n",
    "1. Per a cesar2 revisa els apunts de fitxers.\n",
    "\n",
    "\n",
    "## Implementació, primera part\n",
    "Escriu una funció, ``cesar``, que donades una clau pel xifratge i una frase (formada per lletres i espais) per xifrar retorni la frase xifrada."
   ]
  },
  {
   "cell_type": "code",
   "execution_count": null,
   "metadata": {
    "colab": {
     "base_uri": "https://localhost:8080/",
     "height": 35
    },
    "colab_type": "code",
    "id": "hsv5mx06JF1x",
    "outputId": "ee864fd7-e030-43d0-bf46-fec8ebbe130d"
   },
   "outputs": [],
   "source": [
    "# Escriu la teva solució seguint el patró donat\n",
    "'''\n",
    "    El meu algorisme rep per paràmetres una clau(que serà el nombre de posicions a la que es trobarà la lletra xifrada) i una frase que xifrarè.\n",
    "    Com a l'enunciat explicaba que només havíem de xifrar caràcters he fet dos strings que seràn abecedaris, un de minúscules i un altre en\n",
    "    majúscules. Després miro si la lletra és majúscula o minúscula, depenent d'això avanço posicions a l'abecedari o l'ABECEDARI i afegeixo a \n",
    "    la meva fraseXifrada la lletra que es troba a la posició adient del abecedari. \n",
    "    \n",
    "    La condició if la faig servir per als casos en què la posició dessitjada és troba fora del len(abecedariS). Si es troba fora la posició\n",
    "    serà la sobrant començant des del principi del string una altra vegada.\n",
    "'''\n",
    "def cesar(clau, frase):\n",
    "    n = clau%26\n",
    "    abecedari = \"abcdefghijklmnopqrstuvwxyz\" #26 lletres\n",
    "    ABECEDARI = \"ABCDEFGHIJKLMNOPQRSTUVWXYZ\" #26 lletres\n",
    "    fraseXifrada = \"\"\n",
    "    p = 0\n",
    "    for i in frase:\n",
    "        if i == \" \":\n",
    "            fraseXifrada += i\n",
    "        elif i.islower():\n",
    "            x = abecedari.index(i)+n\n",
    "            if x > 25: \n",
    "                p = x-25\n",
    "                fraseXifrada += abecedari[p-1]\n",
    "            else:\n",
    "                fraseXifrada += abecedari[x]\n",
    "        elif i.isupper():\n",
    "            x = ABECEDARI.index(i)+n\n",
    "            if x > 25: \n",
    "                p = x-25\n",
    "                fraseXifrada += ABECEDARI[p-1]\n",
    "            else:\n",
    "                fraseXifrada += ABECEDARI[x]\n",
    "                \n",
    "    return fraseXifrada"
   ]
  },
  {
   "cell_type": "code",
   "execution_count": null,
   "metadata": {},
   "outputs": [],
   "source": [
    "print(\"La frase xifrada seria:\",cesar(5, \"Vamos a atracar un banco\"))"
   ]
  },
  {
   "cell_type": "markdown",
   "metadata": {
    "colab_type": "text",
    "id": "VXruTX7NJF18"
   },
   "source": [
    "## Implementació, segona part\n",
    "Baixa't la lletra d’una cançó qualsevol (per exemple, de http://www.azlyrics.com/) i copia-la a un fitxer anomenat lletra.txt. Donada la següent funció:"
   ]
  },
  {
   "cell_type": "code",
   "execution_count": null,
   "metadata": {
    "colab": {
     "base_uri": "https://localhost:8080/",
     "height": 328
    },
    "colab_type": "code",
    "id": "VwusKG5LJF2B",
    "outputId": "cffaf66d-0727-48ab-aca7-4c1d4bdcc88c"
   },
   "outputs": [],
   "source": [
    "def lyrics():\n",
    "    f = open(\"lletra.txt\", \"r\")\n",
    "    text = f.readlines()\n",
    "    f.close()\n",
    "    for line in text:\n",
    "            print(line,end=\"\")\n",
    "\n",
    "lyrics()"
   ]
  },
  {
   "cell_type": "markdown",
   "metadata": {
    "colab_type": "text",
    "id": "5MAsXg6uJF2I"
   },
   "source": [
    "Executa-la per veure què fa, i modifica-la de manera que escrigui en un altre fitxer, lletra_cesar.txt (i no per pantalla) la cançó segons el xifratge del Cèsar amb  n=5 , fent que escrigui el nombre de línia al començament de cada línia."
   ]
  },
  {
   "cell_type": "code",
   "execution_count": null,
   "metadata": {
    "colab": {},
    "colab_type": "code",
    "id": "CBddj4lIJF2L"
   },
   "outputs": [],
   "source": [
    "# Escriu la teva solució seguint el patró donat\n",
    "'''\n",
    "    Al meu algorisme primerament obro el fitxer amb la lletra de la cançó i utilitzo la funció readlines per tenir una variable amb totes les\n",
    "    linies de la cançó. Després obro el fitxer al que vull escriure la lletra amb la funció 'a' de afegir elements al fixter. Després només he\n",
    "    d'iterar per cada linia i fer la funció cesar de cadascuna i escrivint al fitxer cadascuna de les línies ja xifrades + un salt de línia.\n",
    "'''\n",
    "def cesar2():\n",
    "    f = open('lletra.txt','r')\n",
    "    text = f.readlines()\n",
    "    f.close()\n",
    "    x = open('lletra_cesar.txt','a')\n",
    "    line_cont = 0\n",
    "    for line in text:\n",
    "        line_cont += 1\n",
    "        x.write(str(line_cont) +'\\t')\n",
    "        coded_line = cesar(5,line)\n",
    "        x.write(coded_line + '\\n')\n",
    "    x.close()\n",
    "cesar2()"
   ]
  },
  {
   "cell_type": "markdown",
   "metadata": {
    "colab_type": "text",
    "id": "L7oVJ5YsJF2P"
   },
   "source": [
    "## Implementació, tercera part\n",
    "\n",
    "En aquest exercici et passaran un text i l'has de desxifrar. L'única pista que tens és que et donen dos caràcters que són la clau per desxifrar-lo.\n",
    "\n",
    "Per desxifrar-lo primer has de mirar la distància entre el codi d'aquests dos caràcters. Un cop fet això, has d'aplicar aquesta mateixa distància a totes les altres lletres del text.\n",
    "\n",
    "Per ex. caracterxifrat='d', caracteroriginal='a', tenen una distància de -3 per tant, hauràs d'aplicar aquesta mateixa distància a tot el text per desxifrar-lo. Tenint en compte que si la lletra a desxifrar és la 'r', r -3 és o.\n",
    "\n",
    "Per exemple:\n",
    "- desxifrar('d','a',\"Dtxhvw hv xq plvvdwjh vhfuhw\")  => retorna una frase amb sentit"
   ]
  },
  {
   "cell_type": "code",
   "execution_count": null,
   "metadata": {
    "colab": {},
    "colab_type": "code",
    "id": "h8o8KHMLJF2Q"
   },
   "outputs": [],
   "source": [
    "# Escriu la teva solució seguint el patró donat\n",
    "\n",
    "def desxifrar(caracterxifrat, caracteroriginal, textxifrat):\n",
    "    abecedari = \"abcdefghijklmnopqrstuvwxyz\" #26 lletres\n",
    "    ABECEDARI = \"ABCDEFGHIJKLMNOPQRSTUVWXYZ\"\n",
    "    textDesxifrat = \"\"\n",
    "\n",
    "    for i in range(len(abecedari)):           #En aquest for començo a iterar per cada element de l'abecedari i em quedo amb l'index de les\n",
    "        if abecedari[i] == caracterxifrat:    #lletres que vull per després veure la distància que hi ha entre elles.\n",
    "            index_xifrat = i\n",
    "        elif abecedari[i] == caracteroriginal:\n",
    "            index_orig = i\n",
    "    n = index_orig - index_xifrat\n",
    "    \n",
    "    if n < 0:             #Aquí converteixo la clau a un nombre positiu en el cas que sigui negativa.\n",
    "        n += -(n*2)\n",
    "    n = n%26\n",
    "    \n",
    "    for i in textxifrat:\n",
    "        if i == \" \":\n",
    "            textDesxifrat += i\n",
    "        elif i.islower():\n",
    "            x = abecedari.index(i)-n\n",
    "            textDesxifrat += abecedari[x]\n",
    "        elif i.isupper():\n",
    "            x = ABECEDARI.index(i)-n\n",
    "            textDesxifrat += ABECEDARI[x]\n",
    "            \n",
    "    return textDesxifrat"
   ]
  },
  {
   "cell_type": "code",
   "execution_count": null,
   "metadata": {},
   "outputs": [],
   "source": [
    "print(\"La frase desxifrada seria:\",desxifrar('d','a',\"Dtxhvw hv xq plvvdwjh vhfuhw\"))"
   ]
  },
  {
   "cell_type": "code",
   "execution_count": null,
   "metadata": {
    "colab": {},
    "colab_type": "code",
    "id": "6gxkr-AHJF2W",
    "outputId": "46733297-f12d-4189-c9e1-6c13ed61854b"
   },
   "outputs": [],
   "source": [
    "# Executar aquesta cel.la per donar estil al notebook\n",
    "from IPython.core.display import HTML\n",
    "import requests\n",
    "style=requests.get('https://raw.githubusercontent.com/algorismica2019/problemes/master/assets/prova.css').text\n",
    "HTML('<style>{}</style>'.format(style))"
   ]
  },
  {
   "cell_type": "markdown",
   "metadata": {
    "colab_type": "text",
    "id": "3o9kcA92JF2b"
   },
   "source": [
    "<div id=\"peu\">\n",
    "<p><a href=\"https://colab.research.google.com/github/algorismica2019/problemes/blob/master/XifratgeCesar.ipynb\"><img style=\"margin:-10px 10px 20px 0\" width=\"150px\" align=\"right\" src=\"https://raw.githubusercontent.com/algorismica2019/problemes/master/assets/colab-badge.png?raw=1\" alt=\"Obrir a Colab\" title=\"Obrir i executar a Google Colaboratory\"></a></p>\n",
    "<p style=\"clear:both;text-align:center\">&lt; <a href=\"ValidarIP.ipynb\">Problema anterior</a> | <a href=\"LListatProblemes.ipynb\">LListat de problemes</a> | <a href=\"OrdenarCerca.ipynb\">Problema següent</a> &gt; </p>\n",
    "</div>"
   ]
  }
 ],
 "metadata": {
  "colab": {
   "name": "XifratgeCesar.ipynb",
   "provenance": []
  },
  "kernelspec": {
   "display_name": "Python 3",
   "language": "python",
   "name": "python3"
  },
  "language_info": {
   "codemirror_mode": {
    "name": "ipython",
    "version": 3
   },
   "file_extension": ".py",
   "mimetype": "text/x-python",
   "name": "python",
   "nbconvert_exporter": "python",
   "pygments_lexer": "ipython3",
   "version": "3.7.4"
  }
 },
 "nbformat": 4,
 "nbformat_minor": 1
}
